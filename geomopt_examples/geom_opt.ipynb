{
 "cells": [
  {
   "cell_type": "code",
   "execution_count": 1,
   "id": "1ed98528",
   "metadata": {},
   "outputs": [],
   "source": [
    "import jax; jax.config.update('jax_platform_name', 'cpu')\n",
    "import time\n",
    "from pyscf import df as pyscf_df\n",
    "from pyscfad import gto, dft, scf, df\n",
    "from pyscfad.gw import rpa, sigma\n",
    "from pyscf.geomopt.berny_solver import optimize, to_berny_geom\n",
    "from berny import Berny, geomlib\n",
    "import warnings\n",
    "warnings.simplefilter(\"ignore\")"
   ]
  },
  {
   "cell_type": "code",
   "execution_count": 2,
   "id": "72eb9e94",
   "metadata": {},
   "outputs": [],
   "source": [
    "def energy_rpa(mol, with_df):\n",
    "    mf = dft.RKS(mol)\n",
    "    mf.xc = 'pbe'\n",
    "    mf.kernel(dm0=None)\n",
    "\n",
    "    mymp = rpa.RPA(mf)\n",
    "    mymp.with_df = with_df\n",
    "    mymp.kernel()\n",
    "    return mymp.e_tot"
   ]
  },
  {
   "cell_type": "code",
   "execution_count": 3,
   "id": "e0c58446",
   "metadata": {},
   "outputs": [],
   "source": [
    "def energy_sigma(mol, with_df):\n",
    "    mf = dft.RKS(mol)\n",
    "    mf.xc = 'pbe'\n",
    "    mf.kernel(dm0=None)\n",
    "\n",
    "    mymp = sigma.SIGMA(mf)\n",
    "    mymp.with_df = with_df\n",
    "    mymp.kernel()\n",
    "    return mymp.e_tot"
   ]
  },
  {
   "cell_type": "code",
   "execution_count": 4,
   "id": "021a9a8e",
   "metadata": {},
   "outputs": [],
   "source": [
    "def solver(geom, val_and_grad, basis):\n",
    "    mol = gto.Mole()\n",
    "    mol.verbose = 0\n",
    "    mol.atom = geom\n",
    "    mol.basis = basis\n",
    "    mol.build(trace_exp=False, trace_ctr_coeff=False)\n",
    "\n",
    "    auxbasis = pyscf_df.addons.make_auxbasis(mol, mp2fit=True)\n",
    "    auxmol = df.addons.make_auxmol(mol, auxbasis)\n",
    "    with_df = df.DF(mol, auxmol=auxmol)\n",
    "\n",
    "    e_tot, jac = val_and_grad(mol, with_df)\n",
    "\n",
    "    return e_tot, jac[0].coords + jac[1].mol.coords + jac[1].auxmol.coords"
   ]
  },
  {
   "cell_type": "code",
   "execution_count": 5,
   "id": "ce33fb76",
   "metadata": {},
   "outputs": [],
   "source": [
    "def get_geom(geom_str):\n",
    "    mol_ = gto.Mole()\n",
    "    mol_.build(atom = geom_str, basis = 'sto-3g')\n",
    "    geom = to_berny_geom(mol_)\n",
    "    return geom"
   ]
  },
  {
   "cell_type": "code",
   "execution_count": 6,
   "id": "0e0ce441",
   "metadata": {},
   "outputs": [],
   "source": [
    "def optimize_geom(geom_, basis, method, verbose):\n",
    "    ts = time.time()\n",
    "    print('starting geometry:', geom_)\n",
    "    print('basis:', basis)\n",
    "    print('method:', method)\n",
    "\n",
    "    optimizer = Berny(get_geom(geom_))\n",
    "\n",
    "    if method is 'RPA':\n",
    "        val_and_grad = jax.value_and_grad(energy_rpa, (0,1))\n",
    "    elif method is 'SIGMA':\n",
    "        val_and_grad = jax.value_and_grad(energy_sigma, (0,1))\n",
    "    else:\n",
    "        sys.exit(\"unknown method\")\n",
    "\n",
    "    print('\\nTime before optimization:', time.time()-ts, flush=True)\n",
    "\n",
    "    print('')\n",
    "    for iter_, geom in enumerate(optimizer):\n",
    "        energy, gradients = solver(list(geom), val_and_grad, basis=basis)\n",
    "        optimizer.send((energy, gradients))\n",
    "        print(f'iter={iter_+1}   energy={energy:.10f}   elapsed time={time.time()-ts:.2f} seconds', flush=True)\n",
    "        if verbose:\n",
    "            print('\\nGeometry:')\n",
    "            print(geom.coords, flush=True)\n",
    "            print('\\nGradients:')\n",
    "            print(gradients)\n",
    "            print('')\n",
    "\n",
    "    print('\\nOptimized feometry:')\n",
    "    print(geom.coords)"
   ]
  },
  {
   "cell_type": "code",
   "execution_count": 7,
   "id": "aea8b31a",
   "metadata": {},
   "outputs": [
    {
     "name": "stdout",
     "output_type": "stream",
     "text": [
      "starting geometry: H 0 0 0; H 0 0 1.\n",
      "basis: augccpvdz\n",
      "method: RPA\n",
      "\n",
      "Time before optimization: 0.07403993606567383\n",
      "\n",
      "iter=1   energy=-1.1727842152   elapsed time=9.56 seconds\n",
      "iter=2   energy=-1.1883282829   elapsed time=15.63 seconds\n",
      "iter=3   energy=-1.1804935242   elapsed time=21.42 seconds\n",
      "iter=4   energy=-1.1941174117   elapsed time=27.02 seconds\n",
      "iter=5   energy=-1.1945424926   elapsed time=31.70 seconds\n",
      "iter=6   energy=-1.1946426938   elapsed time=37.75 seconds\n",
      "iter=7   energy=-1.1946435932   elapsed time=41.97 seconds\n",
      "\n",
      "Optimized feometry:\n",
      "[[0.         0.         0.11647374]\n",
      " [0.         0.         0.88352626]]\n"
     ]
    }
   ],
   "source": [
    "optimize_geom(geom_ = '''H 0 0 0; H 0 0 1.''', \n",
    "              basis = 'augccpvdz',\n",
    "              method = 'RPA',\n",
    "              verbose = False)"
   ]
  },
  {
   "cell_type": "code",
   "execution_count": 8,
   "id": "2b5ae130",
   "metadata": {},
   "outputs": [
    {
     "name": "stdout",
     "output_type": "stream",
     "text": [
      "starting geometry: H 0 0 0; F 0 0 1.\n",
      "basis: ccpvtz\n",
      "method: RPA\n",
      "\n",
      "Time before optimization: 0.15929722785949707\n",
      "\n",
      "iter=1   energy=-100.4683497045   elapsed time=17.04 seconds\n",
      "iter=2   energy=-100.4739767110   elapsed time=29.37 seconds\n",
      "iter=3   energy=-100.4740075561   elapsed time=41.48 seconds\n",
      "iter=4   energy=-100.4740114044   elapsed time=53.17 seconds\n",
      "\n",
      "Optimized feometry:\n",
      "[[0.         0.         0.03945238]\n",
      " [0.         0.         0.96054762]]\n"
     ]
    }
   ],
   "source": [
    "optimize_geom(geom_ = '''H 0 0 0; F 0 0 1.''', \n",
    "              basis = 'ccpvtz',\n",
    "              method = 'RPA',\n",
    "              verbose = False)"
   ]
  },
  {
   "cell_type": "code",
   "execution_count": 9,
   "id": "ba5ad916",
   "metadata": {},
   "outputs": [
    {
     "name": "stdout",
     "output_type": "stream",
     "text": [
      "starting geometry: N 0 0 0; N 0 0 1.\n",
      "basis: ccpvtz\n",
      "method: RPA\n",
      "\n",
      "Time before optimization: 0.18834424018859863\n",
      "\n",
      "iter=1   energy=-109.5330225310   elapsed time=24.44 seconds\n",
      "iter=2   energy=-109.5631064529   elapsed time=45.07 seconds\n",
      "iter=3   energy=-109.5689238132   elapsed time=65.20 seconds\n",
      "iter=4   energy=-109.5697433611   elapsed time=84.16 seconds\n",
      "iter=5   energy=-109.5697909329   elapsed time=102.52 seconds\n",
      "iter=6   energy=-109.5697911687   elapsed time=121.32 seconds\n",
      "\n",
      "Optimized feometry:\n",
      "[[ 0.          0.         -0.05224153]\n",
      " [ 0.          0.          1.05224153]]\n"
     ]
    }
   ],
   "source": [
    "optimize_geom(geom_ = '''N 0 0 0; N 0 0 1.''', \n",
    "              basis = 'ccpvtz',\n",
    "              method = 'RPA',\n",
    "              verbose = False)"
   ]
  },
  {
   "cell_type": "code",
   "execution_count": 10,
   "id": "a877ceff",
   "metadata": {},
   "outputs": [
    {
     "name": "stdout",
     "output_type": "stream",
     "text": [
      "starting geometry: H 0 0 0; H 0 0 1.\n",
      "basis: augccpvdz\n",
      "method: SIGMA\n",
      "\n",
      "Time before optimization: 0.21901154518127441\n",
      "\n",
      "iter=1   energy=-1.1159028374   elapsed time=54.51 seconds\n",
      "iter=2   energy=-1.1394035182   elapsed time=108.74 seconds\n",
      "iter=3   energy=-1.1279648274   elapsed time=160.04 seconds\n",
      "iter=4   energy=-1.1461803189   elapsed time=212.15 seconds\n",
      "iter=5   energy=-1.1467156448   elapsed time=266.54 seconds\n",
      "iter=6   energy=-1.1468317449   elapsed time=319.52 seconds\n",
      "iter=7   energy=-1.1468327864   elapsed time=371.71 seconds\n",
      "\n",
      "Optimized feometry:\n",
      "[[0.         0.         0.12968564]\n",
      " [0.         0.         0.87031436]]\n"
     ]
    }
   ],
   "source": [
    "optimize_geom(geom_ = '''H 0 0 0; H 0 0 1.''', \n",
    "              basis = 'augccpvdz',\n",
    "              method = 'SIGMA',\n",
    "              verbose = False)"
   ]
  },
  {
   "cell_type": "code",
   "execution_count": 11,
   "id": "dc376f52",
   "metadata": {},
   "outputs": [
    {
     "name": "stdout",
     "output_type": "stream",
     "text": [
      "starting geometry: N 0 0 0; N 0 0 1.\n",
      "basis: ccpvtz\n",
      "method: SIGMA\n",
      "\n",
      "Time before optimization: 0.2563936710357666\n",
      "\n",
      "iter=1   energy=-109.0040381504   elapsed time=325.51 seconds\n",
      "iter=2   energy=-108.9898927226   elapsed time=656.98 seconds\n",
      "iter=3   energy=-109.0182369432   elapsed time=971.81 seconds\n",
      "iter=4   energy=-109.0196204635   elapsed time=1287.50 seconds\n",
      "iter=5   energy=-109.0196711596   elapsed time=1611.06 seconds\n",
      "iter=6   energy=-109.0196713893   elapsed time=1935.87 seconds\n",
      "\n",
      "Optimized feometry:\n",
      "[[ 0.          0.         -0.03011028]\n",
      " [ 0.          0.          1.03011028]]\n"
     ]
    }
   ],
   "source": [
    "optimize_geom(geom_ = '''N 0 0 0; N 0 0 1.''', \n",
    "              basis = 'ccpvtz',\n",
    "              method = 'SIGMA',\n",
    "              verbose = False)"
   ]
  },
  {
   "cell_type": "code",
   "execution_count": null,
   "id": "3f4909e8",
   "metadata": {},
   "outputs": [],
   "source": []
  }
 ],
 "metadata": {
  "kernelspec": {
   "display_name": "pyscfad_venv",
   "language": "python",
   "name": "pyscfad_venv"
  },
  "language_info": {
   "codemirror_mode": {
    "name": "ipython",
    "version": 3
   },
   "file_extension": ".py",
   "mimetype": "text/x-python",
   "name": "python",
   "nbconvert_exporter": "python",
   "pygments_lexer": "ipython3",
   "version": "3.10.6"
  }
 },
 "nbformat": 4,
 "nbformat_minor": 5
}
